{
 "cells": [
  {
   "cell_type": "code",
   "execution_count": 11,
   "metadata": {},
   "outputs": [],
   "source": [
    "from typing import Tuple\n",
    "import numpy as np\n",
    "import matplotlib.pyplot as plt"
   ]
  },
  {
   "cell_type": "code",
   "execution_count": 9,
   "metadata": {},
   "outputs": [],
   "source": [
    "import tensorflow as tf\n",
    "\n",
    "def create_mlp_model(number_of_training_data:int, input_shape:Tuple[int, int]) -> tf.keras.Model:\n",
    "\n",
    "    \"\"\"Creates a simple MLP regression model with 3-layers.\"\"\"\n",
    "\n",
    "    model = tf.keras.Sequential([\n",
    "        tf.keras.layers.Dense(number_of_training_data, input_shape=input_shape, activation=\"relu\"),\n",
    "        tf.keras.layers.Dense(128, activation=\"relu\"),\n",
    "        tf.keras.layers.Dense(56, activation=\"relu\"),\n",
    "        tf.keras.layers.Dense(1, activation=\"sigmoid\")\n",
    "    ])\n",
    "\n",
    "    model.compile(\n",
    "        loss=\"mae\",\n",
    "        optimizer=\"adam\",\n",
    "        metrics=[\"acc\", \"val_acc\"]\n",
    "    )\n",
    "\n",
    "    return model"
   ]
  },
  {
   "cell_type": "code",
   "execution_count": null,
   "metadata": {},
   "outputs": [],
   "source": [
    "NUMBER_OF_TRAINING_DATA = 10\n",
    "INPUT_DIM = (20, 22)\n",
    "EPOCHS = 50\n",
    "\n",
    "model = create_mlp_model(NUMBER_OF_TRAINING_DATA, INPUT_DIM)\n",
    "\n",
    "x_training = np.load(\"training_data_x.npy\")\n",
    "y_training = np.load(\"training_data_y.npy\")\n",
    "\n",
    "## model training \n",
    "history = model.fit(x_training, y_training, batch_size=64, epochs=EPOCHS, verbose=1, validation_split=0.2)"
   ]
  },
  {
   "cell_type": "code",
   "execution_count": null,
   "metadata": {},
   "outputs": [],
   "source": [
    "accuracy = history.history[\"acc\"]\n",
    "val_accuracy = history.history[\"val_acc\"]\n",
    "\n",
    "loss = history.history[\"loss\"]\n",
    "val_loss = history.history[\"val_loss\"]"
   ]
  },
  {
   "cell_type": "code",
   "execution_count": null,
   "metadata": {},
   "outputs": [],
   "source": [
    "plt.plot(range(len(EPOCHS)), accuracy, \"b\", label = f\"Training Accuracy, acc = {accuracy[-1]}\")\n",
    "plt.plot(range(len(EPOCHS)), val_accuracy, \"-r\", label = f\"Validation Accuracy, val_acc = {val_accuracy[-1]}\")\n",
    "plt.xlabel(\"Epoch\")\n",
    "plt.ylabel(\"Accuracy\")\n",
    "plt.legend()\n",
    "plt.title(\"Accuracy\")\n",
    "plt.show()"
   ]
  },
  {
   "cell_type": "code",
   "execution_count": null,
   "metadata": {},
   "outputs": [],
   "source": [
    "plt.plot(range(len(EPOCHS)), loss, \"b\", label = f\"Training Loss, loss = {loss[-1]}\")\n",
    "plt.plot(range(len(EPOCHS)), val_loss, \"-r\", label = f\"Validation Loss, val_loss = {val_loss[-1]}\")\n",
    "plt.xlabel(\"Epoch\")\n",
    "plt.ylabel(\"Loss\")\n",
    "plt.legend()\n",
    "plt.title(\"Loss MSE\")\n",
    "plt.show()"
   ]
  }
 ],
 "metadata": {
  "kernelspec": {
   "display_name": "Python 3",
   "language": "python",
   "name": "python3"
  },
  "language_info": {
   "codemirror_mode": {
    "name": "ipython",
    "version": 3
   },
   "file_extension": ".py",
   "mimetype": "text/x-python",
   "name": "python",
   "nbconvert_exporter": "python",
   "pygments_lexer": "ipython3",
   "version": "3.11.3"
  },
  "orig_nbformat": 4
 },
 "nbformat": 4,
 "nbformat_minor": 2
}
