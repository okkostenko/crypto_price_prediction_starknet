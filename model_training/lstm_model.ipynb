{
 "cells": [
  {
   "cell_type": "code",
   "execution_count": 3,
   "metadata": {},
   "outputs": [],
   "source": [
    "import numpy as np\n",
    "from typing import Tuple"
   ]
  },
  {
   "cell_type": "code",
   "execution_count": null,
   "metadata": {},
   "outputs": [],
   "source": [
    "import tensorflow as tf\n",
    "\n",
    "def create_lstm_model(x:int, input_shape:Tuple[int, int]) -> tf.keras.Model:\n",
    "    model = tf.keras.Sequential([\n",
    "        tf.keras.layers.LSTM(x, input_shape=(), activation=\"relu\"),\n",
    "        tf.keras.layers.BatchNormalization(),\n",
    "        tf.keras.layers.LSTM(128, input_shape=(), activation=\"relu\"),\n",
    "        tf.keras.layers.BatchNormalization(), \n",
    "        tf.keras.layers.LSTM(56, input_shape=(), activation=\"relu\"),\n",
    "        tf.keras.layers.Dropout(0.2),\n",
    "        tf.keras.layers.Flatten(), \n",
    "        tf.keras.layers.Dense(128, activation=\"relu\"),\n",
    "        tf.keras.layers.Dense(56, activation=\"relu\"),\n",
    "        tf.keras.layers.Dense(1, activation=\"sigmoid\")\n",
    "    ])\n",
    "\n",
    "    model.compile(\n",
    "        loss=\"mae\",\n",
    "        optimizer=tf.keras.optimizers.Adam(learning_rate=0.003, \n",
    "                                           beta_1=0.9, \n",
    "                                           beta_2=0.999, \n",
    "                                           epsilon=1e-7),\n",
    "        metrics=[\"acc\", \"val_acc\"]\n",
    "    )\n",
    "\n",
    "    return model"
   ]
  }
 ],
 "metadata": {
  "kernelspec": {
   "display_name": "Python 3",
   "language": "python",
   "name": "python3"
  },
  "language_info": {
   "codemirror_mode": {
    "name": "ipython",
    "version": 3
   },
   "file_extension": ".py",
   "mimetype": "text/x-python",
   "name": "python",
   "nbconvert_exporter": "python",
   "pygments_lexer": "ipython3",
   "version": "3.11.3"
  },
  "orig_nbformat": 4
 },
 "nbformat": 4,
 "nbformat_minor": 2
}
