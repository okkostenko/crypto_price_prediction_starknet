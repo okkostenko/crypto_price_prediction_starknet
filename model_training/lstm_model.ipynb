{
 "cells": [
  {
   "cell_type": "code",
   "execution_count": 1,
   "metadata": {},
   "outputs": [],
   "source": [
    "import numpy as np\n",
    "import os\n",
    "from typing import Tuple"
   ]
  },
  {
   "cell_type": "code",
   "execution_count": 74,
   "metadata": {},
   "outputs": [],
   "source": [
    "import tensorflow as tf\n",
    "\n",
    "def create_lstm_model(input_shape:Tuple[int, int]) -> tf.keras.Model:\n",
    "    print(input_shape)\n",
    "    model = tf.keras.Sequential([\n",
    "        # tf.keras.layers.InputLayer(input_shape=input_shape),\n",
    "        tf.keras.layers.LSTM(23, activation=\"relu\", input_shape=input_shape, return_sequences=True),\n",
    "        tf.keras.layers.LSTM(56, activation=\"relu\"),\n",
    "        tf.keras.layers.Dropout(0.2),\n",
    "        tf.keras.layers.Flatten(), \n",
    "        tf.keras.layers.Dense(128, activation=\"relu\"),\n",
    "        tf.keras.layers.Dense(56, activation=\"relu\"),\n",
    "        tf.keras.layers.Dense(5, activation=\"softmax\")\n",
    "    ])\n",
    "\n",
    "    model.compile(\n",
    "        loss=\"categorical_crossentropy\",\n",
    "        optimizer=\"adagrad\",\n",
    "        metrics=[\"acc\"]\n",
    "    )\n",
    "\n",
    "    return model"
   ]
  },
  {
   "cell_type": "code",
   "execution_count": 75,
   "metadata": {},
   "outputs": [
    {
     "name": "stdout",
     "output_type": "stream",
     "text": [
      "(23, 36)\n",
      "(23, 36)\n",
      "WARNING:tensorflow:Layer lstm_50 will not use cuDNN kernels since it doesn't meet the criteria. It will use a generic GPU kernel as fallback when running on GPU.\n"
     ]
    },
    {
     "name": "stderr",
     "output_type": "stream",
     "text": [
      "WARNING:tensorflow:Layer lstm_50 will not use cuDNN kernels since it doesn't meet the criteria. It will use a generic GPU kernel as fallback when running on GPU.\n"
     ]
    },
    {
     "name": "stdout",
     "output_type": "stream",
     "text": [
      "WARNING:tensorflow:Layer lstm_51 will not use cuDNN kernels since it doesn't meet the criteria. It will use a generic GPU kernel as fallback when running on GPU.\n"
     ]
    },
    {
     "name": "stderr",
     "output_type": "stream",
     "text": [
      "WARNING:tensorflow:Layer lstm_51 will not use cuDNN kernels since it doesn't meet the criteria. It will use a generic GPU kernel as fallback when running on GPU.\n"
     ]
    }
   ],
   "source": [
    "NUMBER_OF_TRAINING_DATA = 10\n",
    "EPOCHS = 5\n",
    "\n",
    "TRAINING_PATH = \"../data_collection/datasets/training\"\n",
    "TEST_PATH = \"../data_collection/datasets/test\"\n",
    "\n",
    "x_training = np.load(os.path.join(TRAINING_PATH, \"class\", \"features.npy\"), allow_pickle=True)\n",
    "x_training = np.array([x_training[i].T for i in range(x_training.shape[0])])\n",
    "y_training = np.load(os.path.join(TRAINING_PATH, \"class\", \"labels.npy\"), allow_pickle=True)  \n",
    "\n",
    "INPUT_DIM = x_training.shape[1:]\n",
    "print(INPUT_DIM)\n",
    "\n",
    "x_training = tf.convert_to_tensor(x_training.astype('float32'))\n",
    "y_training = tf.convert_to_tensor(y_training.astype('int32'))\n",
    "y_training = tf.one_hot(y_training, 5)\n",
    "\n",
    "model = create_lstm_model(INPUT_DIM)"
   ]
  },
  {
   "cell_type": "code",
   "execution_count": 76,
   "metadata": {},
   "outputs": [
    {
     "name": "stdout",
     "output_type": "stream",
     "text": [
      "Epoch 1/5\n",
      "20/20 [==============================] - 18s 848ms/step - loss: 15055582208.0000 - acc: 0.2789 - val_loss: 35793502208.0000 - val_acc: 0.3608\n",
      "Epoch 2/5\n",
      "20/20 [==============================] - 16s 804ms/step - loss: 8417242624.0000 - acc: 0.2789 - val_loss: 27264063488.0000 - val_acc: 0.3766\n",
      "Epoch 3/5\n",
      "20/20 [==============================] - 16s 818ms/step - loss: 7924314112.0000 - acc: 0.2393 - val_loss: 15687245824.0000 - val_acc: 0.4114\n",
      "Epoch 4/5\n",
      "20/20 [==============================] - 17s 815ms/step - loss: 7391737344.0000 - acc: 0.2536 - val_loss: 20145270784.0000 - val_acc: 0.4209\n",
      "Epoch 5/5\n",
      "20/20 [==============================] - 17s 846ms/step - loss: 6958020608.0000 - acc: 0.2892 - val_loss: 11409640448.0000 - val_acc: 0.3956\n"
     ]
    }
   ],
   "source": [
    "history = model.fit(x_training, y_training, epochs=EPOCHS, batch_size=64, validation_split=0.2)"
   ]
  },
  {
   "cell_type": "code",
   "execution_count": 77,
   "metadata": {},
   "outputs": [
    {
     "name": "stdout",
     "output_type": "stream",
     "text": [
      "50/50 [==============================] - 4s 67ms/step\n"
     ]
    },
    {
     "data": {
      "text/plain": [
       "array([[0., 0., 1., 0., 0.],\n",
       "       [0., 0., 1., 0., 0.],\n",
       "       [0., 0., 1., 0., 0.],\n",
       "       ...,\n",
       "       [0., 0., 1., 0., 0.],\n",
       "       [0., 0., 1., 0., 0.],\n",
       "       [0., 0., 1., 0., 0.]], dtype=float32)"
      ]
     },
     "execution_count": 77,
     "metadata": {},
     "output_type": "execute_result"
    }
   ],
   "source": [
    "y_pred = model.predict(x_training)\n",
    "y_pred"
   ]
  },
  {
   "cell_type": "code",
   "execution_count": 34,
   "metadata": {},
   "outputs": [
    {
     "data": {
      "text/plain": [
       "<tf.Tensor: shape=(1578,), dtype=int32, numpy=array([3, 0, 4, ..., 2, 2, 2], dtype=int32)>"
      ]
     },
     "execution_count": 34,
     "metadata": {},
     "output_type": "execute_result"
    }
   ],
   "source": [
    "y_training"
   ]
  },
  {
   "cell_type": "code",
   "execution_count": null,
   "metadata": {},
   "outputs": [
    {
     "ename": "NameError",
     "evalue": "name 'model' is not defined",
     "output_type": "error",
     "traceback": [
      "\u001b[0;31m---------------------------------------------------------------------------\u001b[0m",
      "\u001b[0;31mNameError\u001b[0m                                 Traceback (most recent call last)",
      "Cell \u001b[0;32mIn[10], line 1\u001b[0m\n\u001b[0;32m----> 1\u001b[0m model\u001b[39m.\u001b[39msummary()\n",
      "\u001b[0;31mNameError\u001b[0m: name 'model' is not defined"
     ]
    }
   ],
   "source": [
    "model.summary()"
   ]
  },
  {
   "cell_type": "code",
   "execution_count": null,
   "metadata": {},
   "outputs": [],
   "source": [
    "accuracy = history.history[\"acc\"]\n",
    "val_accuracy = history.history[\"val_acc\"]\n",
    "\n",
    "loss = history.history[\"loss\"]\n",
    "val_loss = history.history[\"val_loss\"]"
   ]
  },
  {
   "cell_type": "code",
   "execution_count": null,
   "metadata": {},
   "outputs": [],
   "source": [
    "import matplotlib.pyplot as plt\n",
    "plt.plot(range(EPOCHS), accuracy, \"b\", label = f\"Training Accuracy, acc = {accuracy[-1]}\")\n",
    "plt.plot(range(EPOCHS), val_accuracy, \"-r\", label = f\"Validation Accuracy, val_acc = {val_accuracy[-1]}\")\n",
    "plt.xlabel(\"Epoch\")\n",
    "plt.ylabel(\"Accuracy\")\n",
    "plt.legend()\n",
    "plt.title(\"Accuracy\")\n",
    "plt.show()"
   ]
  },
  {
   "cell_type": "code",
   "execution_count": null,
   "metadata": {},
   "outputs": [],
   "source": [
    "plt.plot(range(EPOCHS), loss, \"b\", label = f\"Training Loss, loss = {loss[-1]}\")\n",
    "plt.plot(range(EPOCHS), val_loss, \"-r\", label = f\"Validation Loss, val_loss = {val_loss[-1]}\")\n",
    "plt.xlabel(\"Epoch\")\n",
    "plt.ylabel(\"Loss\")\n",
    "plt.legend()\n",
    "plt.title(\"Loss MSE\")\n",
    "plt.show()"
   ]
  },
  {
   "cell_type": "code",
   "execution_count": null,
   "metadata": {},
   "outputs": [],
   "source": []
  }
 ],
 "metadata": {
  "kernelspec": {
   "display_name": "Python 3",
   "language": "python",
   "name": "python3"
  },
  "language_info": {
   "codemirror_mode": {
    "name": "ipython",
    "version": 3
   },
   "file_extension": ".py",
   "mimetype": "text/x-python",
   "name": "python",
   "nbconvert_exporter": "python",
   "pygments_lexer": "ipython3",
   "version": "3.11.3"
  },
  "orig_nbformat": 4
 },
 "nbformat": 4,
 "nbformat_minor": 2
}
