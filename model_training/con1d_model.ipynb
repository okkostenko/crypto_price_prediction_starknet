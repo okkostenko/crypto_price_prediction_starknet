{
 "cells": [
  {
   "cell_type": "code",
   "execution_count": 1,
   "metadata": {},
   "outputs": [],
   "source": [
    "import os\n",
    "import numpy as np\n",
    "from typing import Tuple\n",
    "import tensorflow as tf\n",
    "from sklearn.utils import class_weight"
   ]
  },
  {
   "cell_type": "code",
   "execution_count": 2,
   "metadata": {},
   "outputs": [
    {
     "name": "stdout",
     "output_type": "stream",
     "text": [
      "Metal device set to: Apple M2\n",
      "\n",
      "systemMemory: 8.00 GB\n",
      "maxCacheSize: 2.67 GB\n",
      "\n"
     ]
    }
   ],
   "source": [
    "NUMBER_OF_TRAINING_DATA = 10\n",
    "EPOCHS = 50\n",
    "\n",
    "TRAINING_PATH = \"../data_collection/datasets/training\"\n",
    "TEST_PATH = \"../data_collection/datasets/test\"\n",
    "\n",
    "x_training = np.load(os.path.join(TRAINING_PATH, \"class\", \"features.npy\"), allow_pickle=True)\n",
    "x_training = np.array([x_training[i].T for i in range(x_training.shape[0])])[-900:]\n",
    "y_training = np.load(os.path.join(TRAINING_PATH, \"class\", \"labels.npy\"), allow_pickle=True)[-900:]\n",
    "\n",
    "# Calculate class weights\n",
    "class_weights = class_weight.compute_class_weight(class_weight='balanced', classes=np.unique(y_training), y=y_training)\n",
    "\n",
    "# Convert class weights to a dictionary\n",
    "class_weights_dict = dict(enumerate(class_weights))\n",
    "\n",
    "INPUT_DIM = x_training.shape[1:]\n",
    "\n",
    "x_training = tf.convert_to_tensor(x_training.astype('float32'))\n",
    "y_training = tf.convert_to_tensor(y_training.astype('int32'))\n",
    "\n"
   ]
  },
  {
   "cell_type": "code",
   "execution_count": 3,
   "metadata": {},
   "outputs": [
    {
     "data": {
      "text/plain": [
       "<tf.Tensor: shape=(5,), dtype=float32, numpy=\n",
       "array([1.6071428 , 1.5517242 , 0.46391752, 1.3533834 , 1.192053  ],\n",
       "      dtype=float32)>"
      ]
     },
     "execution_count": 3,
     "metadata": {},
     "output_type": "execute_result"
    }
   ],
   "source": [
    "class_weights = tf.cast(tf.constant(class_weights), \"float32\")\n",
    "class_weights"
   ]
  },
  {
   "cell_type": "code",
   "execution_count": null,
   "metadata": {},
   "outputs": [],
   "source": [
    "def weightedLoss(weights=tf.constant([1,1,1,1,1])):\n",
    "    def innerLoss(true, pred):\n",
    "        w = tf.gather(weights, true) #(batch, labels, 1)\n",
    "\n",
    "        loss = tf.keras.backend.sparse_categorical_crossentropy(true, pred) #(batch, labels)\n",
    "        loss = w * loss\n",
    "\n",
    "        return loss\n",
    "\n",
    "    return innerLoss"
   ]
  },
  {
   "cell_type": "code",
   "execution_count": null,
   "metadata": {},
   "outputs": [],
   "source": [
    "\n",
    "\n",
    "def create_conv1d_model(n:int, input_shape=Tuple[int, int]) -> tf.keras.Model:\n",
    "\n",
    "    model = tf.keras.Sequential([\n",
    "        tf.keras.layers.Conv1D(32, 2, 3, padding=\"same\", input_shape=input_shape, activation=\"relu\"),\n",
    "        tf.keras.layers.MaxPooling1D(2, (3, 3)),\n",
    "        tf.keras.layers.Conv1D(64, 2, 3, padding=\"same\", input_shape=input_shape, activation=\"relu\"),\n",
    "        tf.keras.layers.MaxPooling1D(2, (3, 3)),\n",
    "        tf.keras.layers.BatchNormalization(),\n",
    "        tf.keras.layers.Conv1D(128, 2, 3, padding=\"same\", input_shape=input_shape, activation=\"relu\"),\n",
    "        tf.keras.layers.MaxPooling1D(2, (3, 3)),\n",
    "        tf.keras.layers.Dropout(0.2),\n",
    "        tf.keras.layers.Flatten(),\n",
    "        tf.keras.layers.Dense(56, activation=\"relu\"),\n",
    "        tf.keras.layers.Dense(1, activation=\"sigmoid\")\n",
    "    ])\n",
    "\n",
    "    model.compile(\n",
    "        loss=\"mse\",\n",
    "        optimizer=tf.keras.optimizers.Adam(),\n",
    "        metrics=[\"acc\", \"val_acc\"]\n",
    "    )\n",
    "\n",
    "    return model"
   ]
  }
 ],
 "metadata": {
  "kernelspec": {
   "display_name": "Python 3",
   "language": "python",
   "name": "python3"
  },
  "language_info": {
   "codemirror_mode": {
    "name": "ipython",
    "version": 3
   },
   "file_extension": ".py",
   "mimetype": "text/x-python",
   "name": "python",
   "nbconvert_exporter": "python",
   "pygments_lexer": "ipython3",
   "version": "3.11.3"
  },
  "orig_nbformat": 4
 },
 "nbformat": 4,
 "nbformat_minor": 2
}
